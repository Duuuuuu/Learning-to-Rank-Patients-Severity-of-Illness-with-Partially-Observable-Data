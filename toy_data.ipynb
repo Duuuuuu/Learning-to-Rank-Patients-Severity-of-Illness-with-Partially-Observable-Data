{
 "cells": [
  {
   "cell_type": "code",
   "execution_count": 66,
   "metadata": {},
   "outputs": [
    {
     "data": {
      "text/html": [
       "<style>.container { width:97.5% !important; }</style>"
      ],
      "text/plain": [
       "<IPython.core.display.HTML object>"
      ]
     },
     "metadata": {},
     "output_type": "display_data"
    }
   ],
   "source": [
    "from IPython.core.display import display, HTML\n",
    "display(HTML(\"<style>.container { width:97.5% !important; }</style>\"))"
   ]
  },
  {
   "cell_type": "code",
   "execution_count": 67,
   "metadata": {
    "scrolled": true
   },
   "outputs": [],
   "source": [
    "%reload_ext autoreload\n",
    "%autoreload 2\n",
    "import numpy as np\n",
    "from dops import *"
   ]
  },
  {
   "cell_type": "code",
   "execution_count": 68,
   "metadata": {},
   "outputs": [],
   "source": [
    "def generate_data(u, theta, C, n, k):\n",
    "    S = np.zeros((n, len(u)))\n",
    "    z = np.zeros(n)\n",
    "    for i in range(n):\n",
    "        features = np.random.choice(u, size=k, replace=False)\n",
    "        S[i] = np.array([1 if j in features else 0 for j in range(len(u))])\n",
    "        cs = []\n",
    "        for f in features:\n",
    "            for j in C[f]:\n",
    "                if j not in cs:\n",
    "                    cs.append(j)\n",
    "        z[i] = np.sum(theta[cs])\n",
    "    return S, z\n",
    "\n",
    "k = 5\n",
    "d = 20\n",
    "u = np.arange(d)\n",
    "theta = np.random.randint(100, size=d)\n",
    "C = [np.random.choice(u, size=np.random.randint(1,8), replace=False) for _ in range(d)]\n",
    "S, z = generate_data(u, theta, C, 90, k)\n",
    "T, v = generate_data(u, theta, C, 10, k)"
   ]
  },
  {
   "cell_type": "code",
   "execution_count": 71,
   "metadata": {},
   "outputs": [
    {
     "data": {
      "text/plain": [
       "[array([19, 12,  4, 13,  1, 14]),\n",
       " array([5]),\n",
       " array([12, 14, 18,  9,  7]),\n",
       " array([7]),\n",
       " array([ 8,  3, 16, 14,  7]),\n",
       " array([ 1, 14]),\n",
       " array([12,  9, 11, 16,  4,  7, 10]),\n",
       " array([16]),\n",
       " array([9, 0]),\n",
       " array([17, 16,  3,  7]),\n",
       " array([9, 3, 2, 7]),\n",
       " array([11]),\n",
       " array([ 9,  0, 18, 19, 16,  1]),\n",
       " array([15, 13]),\n",
       " array([16,  1, 15]),\n",
       " array([8, 6]),\n",
       " array([14,  6]),\n",
       " array([10, 12]),\n",
       " array([14, 11, 16, 12,  3,  0]),\n",
       " array([18, 17,  1, 12])]"
      ]
     },
     "execution_count": 71,
     "metadata": {},
     "output_type": "execute_result"
    }
   ],
   "source": [
    "C"
   ]
  },
  {
   "cell_type": "code",
   "execution_count": 59,
   "metadata": {
    "scrolled": true
   },
   "outputs": [],
   "source": [
    "indices_of_results = []\n",
    "for i in range(20):\n",
    "    k = 5\n",
    "    d = 20\n",
    "    u = np.arange(d)\n",
    "    theta = np.random.randint(100, size=d)\n",
    "    C = [np.random.choice(u, size=np.random.randint(1,8), replace=False) for _ in range(d)]\n",
    "    S, z = generate_data(u, theta, C, 90, k)\n",
    "    T, v = generate_data(u, theta, C, 10, k)\n",
    "    res, pred_theta, max_item_index = dops(S, z, T, C, 6, 0.5, np.zeros(d), eta=0.02, iters=1500, verbose=False)\n",
    "    max_item = v[max_item_index]\n",
    "    v = sorted(v,reverse=True)\n",
    "    indices_of_results.append(v.index(max_item))"
   ]
  },
  {
   "cell_type": "code",
   "execution_count": 63,
   "metadata": {
    "scrolled": true
   },
   "outputs": [
    {
     "data": {
      "text/plain": [
       "[9, 1, 5, 8, 6, 8, 9, 5, 5, 4, 5, 6, 4, 0, 4, 1, 7, 9, 8, 1]"
      ]
     },
     "execution_count": 63,
     "metadata": {},
     "output_type": "execute_result"
    }
   ],
   "source": [
    "##Expected the indices to be small 1 ~ 3 but instead the results are relatively high\n",
    "##When we change the verbose to true, we find that our theta doesn't converge, which is unexpected.\n",
    "indices_of_results "
   ]
  },
  {
   "cell_type": "code",
   "execution_count": 36,
   "metadata": {
    "scrolled": false
   },
   "outputs": [
    {
     "data": {
      "text/plain": [
       "(array([ 5.33333333e-02,  6.00000000e-02, -9.90527105e-15,  2.66666667e-02,\n",
       "        -1.13333333e-01, -1.33333333e-02, -6.66666667e-03,  2.66666667e-02,\n",
       "         3.33333333e-02, -3.33333333e-02, -8.19136425e-15,  6.66666667e-03,\n",
       "        -2.66666667e-02,  6.66666667e-03,  4.66666667e-02, -2.00000000e-02,\n",
       "         1.33333333e-02,  3.33333333e-02, -2.00000000e-02, -8.66666667e-02]),\n",
       " array([37, 10, 83, 13, 26, 82, 35, 47, 77, 93, 28, 64, 67, 44, 35, 61, 46,\n",
       "         6, 51, 77]))"
      ]
     },
     "execution_count": 36,
     "metadata": {},
     "output_type": "execute_result"
    }
   ],
   "source": [
    "pred_theta, theta"
   ]
  },
  {
   "cell_type": "code",
   "execution_count": 37,
   "metadata": {},
   "outputs": [
    {
     "data": {
      "text/plain": [
       "[0.16666666666659724,\n",
       " -0.1066666666667547,\n",
       " 0.06666666666660068,\n",
       " 0.14666666666659703,\n",
       " 0.09999999999994141,\n",
       " 0.09999999999991441,\n",
       " -0.10000000000008119,\n",
       " 0.026666666666588665,\n",
       " 0.11333333333325114,\n",
       " 0.07999999999992463]"
      ]
     },
     "execution_count": 37,
     "metadata": {},
     "output_type": "execute_result"
    }
   ],
   "source": [
    "res"
   ]
  },
  {
   "cell_type": "code",
   "execution_count": null,
   "metadata": {},
   "outputs": [],
   "source": []
  }
 ],
 "metadata": {
  "kernelspec": {
   "display_name": "Python 3",
   "language": "python",
   "name": "python3"
  },
  "language_info": {
   "codemirror_mode": {
    "name": "ipython",
    "version": 3
   },
   "file_extension": ".py",
   "mimetype": "text/x-python",
   "name": "python",
   "nbconvert_exporter": "python",
   "pygments_lexer": "ipython3",
   "version": "3.6.8"
  }
 },
 "nbformat": 4,
 "nbformat_minor": 2
}
