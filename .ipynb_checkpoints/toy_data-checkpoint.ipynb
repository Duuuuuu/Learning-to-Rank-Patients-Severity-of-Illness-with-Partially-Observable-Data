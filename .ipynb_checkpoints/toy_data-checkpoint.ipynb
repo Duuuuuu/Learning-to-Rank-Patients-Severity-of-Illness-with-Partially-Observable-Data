{
 "cells": [
  {
   "cell_type": "code",
   "execution_count": 1,
   "metadata": {},
   "outputs": [
    {
     "ename": "SyntaxError",
     "evalue": "invalid syntax (dops.py, line 62)",
     "output_type": "error",
     "traceback": [
      "Traceback \u001b[0;36m(most recent call last)\u001b[0m:\n",
      "  File \u001b[1;32m\"/Users/djz/anaconda3/lib/python3.6/site-packages/IPython/core/interactiveshell.py\"\u001b[0m, line \u001b[1;32m2963\u001b[0m, in \u001b[1;35mrun_code\u001b[0m\n    exec(code_obj, self.user_global_ns, self.user_ns)\n",
      "\u001b[0;36m  File \u001b[0;32m\"<ipython-input-1-b0963725ce94>\"\u001b[0;36m, line \u001b[0;32m4\u001b[0;36m, in \u001b[0;35m<module>\u001b[0;36m\u001b[0m\n\u001b[0;31m    from dops import *\u001b[0m\n",
      "\u001b[0;36m  File \u001b[0;32m\"/Users/djz/Desktop/Du's/Advanced Optimization/project/Optimization_DOPS/dops.py\"\u001b[0;36m, line \u001b[0;32m62\u001b[0m\n\u001b[0;31m    alphazs = [[i if e >= maxz/alpha for i, e in enumerate(z)] for z, maxz in zip(zs, maxzs)]\u001b[0m\n\u001b[0m                                       ^\u001b[0m\n\u001b[0;31mSyntaxError\u001b[0m\u001b[0;31m:\u001b[0m invalid syntax\n"
     ]
    }
   ],
   "source": [
    "%load_ext autoreload\n",
    "%autoreload 2\n",
    "import numpy as np\n",
    "from dops import *"
   ]
  },
  {
   "cell_type": "code",
   "execution_count": 6,
   "metadata": {},
   "outputs": [],
   "source": [
    "k = 5\n",
    "u = np.arange(20)\n",
    "theta = np.random.randint(100, size=len(u))\n",
    "C = [np.random.choice(u, size=np.random.randint(1,8), replace=False) for _ in range(len(u))]\n",
    "S = [np.random.choice(u, size=k, replace=False) for _ in range(90)]\n",
    "z = [np.sum(theta[s]) for s in S]\n",
    "T = [np.random.choice(u, size=k, replace=False) for _ in range(10)]"
   ]
  },
  {
   "cell_type": "code",
   "execution_count": 7,
   "metadata": {},
   "outputs": [
    {
     "data": {
      "text/plain": [
       "[255,\n",
       " 251,\n",
       " 299,\n",
       " 257,\n",
       " 274,\n",
       " 249,\n",
       " 256,\n",
       " 308,\n",
       " 259,\n",
       " 220,\n",
       " 236,\n",
       " 295,\n",
       " 258,\n",
       " 260,\n",
       " 245,\n",
       " 306,\n",
       " 229,\n",
       " 272,\n",
       " 293,\n",
       " 181,\n",
       " 308,\n",
       " 289,\n",
       " 228,\n",
       " 287,\n",
       " 260,\n",
       " 289,\n",
       " 292,\n",
       " 282,\n",
       " 158,\n",
       " 331,\n",
       " 300,\n",
       " 155,\n",
       " 237,\n",
       " 244,\n",
       " 344,\n",
       " 193,\n",
       " 297,\n",
       " 237,\n",
       " 322,\n",
       " 274,\n",
       " 267,\n",
       " 295,\n",
       " 219,\n",
       " 248,\n",
       " 256,\n",
       " 259,\n",
       " 200,\n",
       " 251,\n",
       " 136,\n",
       " 269,\n",
       " 240,\n",
       " 158,\n",
       " 237,\n",
       " 258,\n",
       " 180,\n",
       " 245,\n",
       " 252,\n",
       " 317,\n",
       " 294,\n",
       " 295,\n",
       " 237,\n",
       " 217,\n",
       " 315,\n",
       " 280,\n",
       " 307,\n",
       " 246,\n",
       " 182,\n",
       " 284,\n",
       " 226,\n",
       " 294,\n",
       " 159,\n",
       " 267,\n",
       " 249,\n",
       " 317,\n",
       " 202,\n",
       " 221,\n",
       " 218,\n",
       " 334,\n",
       " 315,\n",
       " 231,\n",
       " 201,\n",
       " 214,\n",
       " 242,\n",
       " 261,\n",
       " 166,\n",
       " 269,\n",
       " 258,\n",
       " 131,\n",
       " 275,\n",
       " 182]"
      ]
     },
     "execution_count": 7,
     "metadata": {},
     "output_type": "execute_result"
    }
   ],
   "source": []
  },
  {
   "cell_type": "code",
   "execution_count": null,
   "metadata": {},
   "outputs": [],
   "source": []
  }
 ],
 "metadata": {
  "kernelspec": {
   "display_name": "Python 3",
   "language": "python",
   "name": "python3"
  },
  "language_info": {
   "codemirror_mode": {
    "name": "ipython",
    "version": 3
   },
   "file_extension": ".py",
   "mimetype": "text/x-python",
   "name": "python",
   "nbconvert_exporter": "python",
   "pygments_lexer": "ipython3",
   "version": "3.6.5"
  }
 },
 "nbformat": 4,
 "nbformat_minor": 2
}
